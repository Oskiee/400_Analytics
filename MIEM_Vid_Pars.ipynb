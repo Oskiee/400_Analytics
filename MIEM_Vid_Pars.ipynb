{
 "cells": [
  {
   "cell_type": "markdown",
   "id": "d05e8458-05b5-44f9-81ed-e485bd0f6a37",
   "metadata": {},
   "source": [
    "### Создание парсера для Opencast VM MIEM"
   ]
  },
  {
   "cell_type": "markdown",
   "id": "93e5763b-c4a2-409d-a33b-7bb31b9eb206",
   "metadata": {},
   "source": [
    "Для того, чтобы создать датасет для инференса, необходимо сделать выборку из видео с Opencast. Поскольку все записи длятся в среднем по 1.5 часа, необходимо обрезать эти видео в нескольких местах с наиболее вероятным присутствием людей в кадре. Поскольку все записи на сайте - записи семинаров и лекций, то, исключая 10 минутный перерыв в начале, вероятнее всего увидеть человека в кадре - примерно через час после начала записи."
   ]
  },
  {
   "cell_type": "code",
   "execution_count": 1,
   "id": "301da612-3ba9-431f-bc0a-e683e58b8411",
   "metadata": {
    "tags": []
   },
   "outputs": [
    {
     "name": "stdout",
     "output_type": "stream",
     "text": [
      "Collecting moviepy\n",
      "  Downloading moviepy-1.0.3.tar.gz (388 kB)\n",
      "\u001b[2K     \u001b[90m━━━━━━━━━━━━━━━━━━━━━━━━━━━━━━━━━━━━━━━\u001b[0m \u001b[32m388.3/388.3 kB\u001b[0m \u001b[31m2.2 MB/s\u001b[0m eta \u001b[36m0:00:00\u001b[0ma \u001b[36m0:00:01\u001b[0m\n",
      "\u001b[?25h  Preparing metadata (setup.py) ... \u001b[?25ldone\n",
      "\u001b[?25hCollecting decorator<5.0,>=4.0.2\n",
      "  Downloading decorator-4.4.2-py2.py3-none-any.whl (9.2 kB)\n",
      "Collecting tqdm<5.0,>=4.11.2\n",
      "  Downloading tqdm-4.66.2-py3-none-any.whl (78 kB)\n",
      "\u001b[2K     \u001b[90m━━━━━━━━━━━━━━━━━━━━━━━━━━━━━━━━━━━━━━━━\u001b[0m \u001b[32m78.3/78.3 kB\u001b[0m \u001b[31m4.6 MB/s\u001b[0m eta \u001b[36m0:00:00\u001b[0m\n",
      "\u001b[?25hRequirement already satisfied: requests<3.0,>=2.8.1 in /Users/artem/opt/anaconda3/envs/myenv/lib/python3.11/site-packages (from moviepy) (2.28.2)\n",
      "Collecting proglog<=1.0.0\n",
      "  Downloading proglog-0.1.10-py3-none-any.whl (6.1 kB)\n",
      "Requirement already satisfied: numpy>=1.17.3 in /Users/artem/opt/anaconda3/envs/myenv/lib/python3.11/site-packages (from moviepy) (1.24.2)\n",
      "Collecting imageio<3.0,>=2.5\n",
      "  Downloading imageio-2.34.0-py3-none-any.whl (313 kB)\n",
      "\u001b[2K     \u001b[90m━━━━━━━━━━━━━━━━━━━━━━━━━━━━━━━━━━━━━━━\u001b[0m \u001b[32m313.4/313.4 kB\u001b[0m \u001b[31m6.5 MB/s\u001b[0m eta \u001b[36m0:00:00\u001b[0ma \u001b[36m0:00:01\u001b[0m\n",
      "\u001b[?25hCollecting imageio_ffmpeg>=0.2.0\n",
      "  Downloading imageio_ffmpeg-0.4.9-py3-none-macosx_10_9_intel.macosx_10_9_x86_64.macosx_10_10_intel.macosx_10_10_x86_64.whl (22.5 MB)\n",
      "\u001b[2K     \u001b[90m━━━━━━━━━━━━━━━━━━━━━━━━━━━━━━━━━━━━━━━━\u001b[0m \u001b[32m22.5/22.5 MB\u001b[0m \u001b[31m6.1 MB/s\u001b[0m eta \u001b[36m0:00:00\u001b[0m00:01\u001b[0m00:01\u001b[0m\n",
      "\u001b[?25hRequirement already satisfied: pillow>=8.3.2 in /Users/artem/opt/anaconda3/envs/myenv/lib/python3.11/site-packages (from imageio<3.0,>=2.5->moviepy) (9.4.0)\n",
      "Requirement already satisfied: setuptools in /Users/artem/opt/anaconda3/envs/myenv/lib/python3.11/site-packages (from imageio_ffmpeg>=0.2.0->moviepy) (67.1.0)\n",
      "Requirement already satisfied: charset-normalizer<4,>=2 in /Users/artem/opt/anaconda3/envs/myenv/lib/python3.11/site-packages (from requests<3.0,>=2.8.1->moviepy) (2.1.1)\n",
      "Requirement already satisfied: idna<4,>=2.5 in /Users/artem/opt/anaconda3/envs/myenv/lib/python3.11/site-packages (from requests<3.0,>=2.8.1->moviepy) (3.4)\n",
      "Requirement already satisfied: urllib3<1.27,>=1.21.1 in /Users/artem/opt/anaconda3/envs/myenv/lib/python3.11/site-packages (from requests<3.0,>=2.8.1->moviepy) (1.26.14)\n",
      "Requirement already satisfied: certifi>=2017.4.17 in /Users/artem/opt/anaconda3/envs/myenv/lib/python3.11/site-packages (from requests<3.0,>=2.8.1->moviepy) (2024.2.2)\n",
      "Building wheels for collected packages: moviepy\n",
      "  Building wheel for moviepy (setup.py) ... \u001b[?25ldone\n",
      "\u001b[?25h  Created wheel for moviepy: filename=moviepy-1.0.3-py3-none-any.whl size=110727 sha256=740b0a6422359380f4f0f1151d2e8d5866ab12cbc03cf865b6a2d8f680bb398b\n",
      "  Stored in directory: /Users/artem/Library/Caches/pip/wheels/83/b1/d9/119ef7c144b44d591ec0a9a140465133c23ea95d2a161184ba\n",
      "Successfully built moviepy\n",
      "Installing collected packages: tqdm, imageio_ffmpeg, imageio, decorator, proglog, moviepy\n",
      "  Attempting uninstall: decorator\n",
      "    Found existing installation: decorator 5.1.1\n",
      "    Uninstalling decorator-5.1.1:\n",
      "      Successfully uninstalled decorator-5.1.1\n",
      "Successfully installed decorator-4.4.2 imageio-2.34.0 imageio_ffmpeg-0.4.9 moviepy-1.0.3 proglog-0.1.10 tqdm-4.66.2\n"
     ]
    }
   ],
   "source": [
    "!pip install --trusted-host pypi.python.org moviepy"
   ]
  },
  {
   "cell_type": "code",
   "execution_count": 2,
   "id": "adef8d00-00c3-452f-9ac1-813c79b35d9f",
   "metadata": {
    "tags": []
   },
   "outputs": [
    {
     "name": "stdout",
     "output_type": "stream",
     "text": [
      "Requirement already satisfied: imageio-ffmpeg in /Users/artem/opt/anaconda3/envs/myenv/lib/python3.11/site-packages (0.4.9)\n",
      "Requirement already satisfied: setuptools in /Users/artem/opt/anaconda3/envs/myenv/lib/python3.11/site-packages (from imageio-ffmpeg) (67.1.0)\n"
     ]
    }
   ],
   "source": [
    "!pip install imageio-ffmpeg"
   ]
  },
  {
   "cell_type": "code",
   "execution_count": 3,
   "id": "433641b8-183c-41ea-bcbb-c26c744bc42f",
   "metadata": {
    "tags": []
   },
   "outputs": [
    {
     "name": "stdout",
     "output_type": "stream",
     "text": [
      "Collecting bs4\n",
      "  Downloading bs4-0.0.2-py2.py3-none-any.whl (1.2 kB)\n",
      "Requirement already satisfied: beautifulsoup4 in /Users/artem/opt/anaconda3/envs/myenv/lib/python3.11/site-packages (from bs4) (4.11.2)\n",
      "Requirement already satisfied: soupsieve>1.2 in /Users/artem/opt/anaconda3/envs/myenv/lib/python3.11/site-packages (from beautifulsoup4->bs4) (2.3.2.post1)\n",
      "Installing collected packages: bs4\n",
      "Successfully installed bs4-0.0.2\n"
     ]
    }
   ],
   "source": [
    "!pip install bs4"
   ]
  },
  {
   "cell_type": "code",
   "execution_count": 36,
   "id": "fbc7b6bf-a92f-4901-9334-f02b77cc9b09",
   "metadata": {
    "tags": []
   },
   "outputs": [
    {
     "name": "stdout",
     "output_type": "stream",
     "text": [
      "Collecting selenium\n",
      "  Downloading selenium-4.18.1-py3-none-any.whl (10.0 MB)\n",
      "\u001b[2K     \u001b[90m━━━━━━━━━━━━━━━━━━━━━━━━━━━━━━━━━━━━━━━━\u001b[0m \u001b[32m10.0/10.0 MB\u001b[0m \u001b[31m4.9 MB/s\u001b[0m eta \u001b[36m0:00:00\u001b[0m00:01\u001b[0m0:01\u001b[0m\n",
      "\u001b[?25hRequirement already satisfied: urllib3[socks]<3,>=1.26 in /Users/artem/opt/anaconda3/envs/myenv/lib/python3.11/site-packages (from selenium) (1.26.14)\n",
      "Collecting trio~=0.17\n",
      "  Downloading trio-0.25.0-py3-none-any.whl (467 kB)\n",
      "\u001b[2K     \u001b[90m━━━━━━━━━━━━━━━━━━━━━━━━━━━━━━━━━━━━━━━\u001b[0m \u001b[32m467.2/467.2 kB\u001b[0m \u001b[31m5.6 MB/s\u001b[0m eta \u001b[36m0:00:00\u001b[0m00:01\u001b[0m00:01\u001b[0m\n",
      "\u001b[?25hCollecting trio-websocket~=0.9\n",
      "  Downloading trio_websocket-0.11.1-py3-none-any.whl (17 kB)\n",
      "Requirement already satisfied: certifi>=2021.10.8 in /Users/artem/opt/anaconda3/envs/myenv/lib/python3.11/site-packages (from selenium) (2024.2.2)\n",
      "Collecting typing_extensions>=4.9.0\n",
      "  Downloading typing_extensions-4.10.0-py3-none-any.whl (33 kB)\n",
      "Collecting attrs>=23.2.0\n",
      "  Downloading attrs-23.2.0-py3-none-any.whl (60 kB)\n",
      "\u001b[2K     \u001b[90m━━━━━━━━━━━━━━━━━━━━━━━━━━━━━━━━━━━━━━━━\u001b[0m \u001b[32m60.8/60.8 kB\u001b[0m \u001b[31m4.2 MB/s\u001b[0m eta \u001b[36m0:00:00\u001b[0m\n",
      "\u001b[?25hCollecting sortedcontainers\n",
      "  Downloading sortedcontainers-2.4.0-py2.py3-none-any.whl (29 kB)\n",
      "Requirement already satisfied: idna in /Users/artem/opt/anaconda3/envs/myenv/lib/python3.11/site-packages (from trio~=0.17->selenium) (3.4)\n",
      "Collecting outcome\n",
      "  Downloading outcome-1.3.0.post0-py2.py3-none-any.whl (10 kB)\n",
      "Requirement already satisfied: sniffio>=1.3.0 in /Users/artem/opt/anaconda3/envs/myenv/lib/python3.11/site-packages (from trio~=0.17->selenium) (1.3.0)\n",
      "Collecting wsproto>=0.14\n",
      "  Downloading wsproto-1.2.0-py3-none-any.whl (24 kB)\n",
      "Requirement already satisfied: PySocks!=1.5.7,<2.0,>=1.5.6 in /Users/artem/opt/anaconda3/envs/myenv/lib/python3.11/site-packages (from urllib3[socks]<3,>=1.26->selenium) (1.7.1)\n",
      "Collecting h11<1,>=0.9.0\n",
      "  Downloading h11-0.14.0-py3-none-any.whl (58 kB)\n",
      "\u001b[2K     \u001b[90m━━━━━━━━━━━━━━━━━━━━━━━━━━━━━━━━━━━━━━━━\u001b[0m \u001b[32m58.3/58.3 kB\u001b[0m \u001b[31m4.4 MB/s\u001b[0m eta \u001b[36m0:00:00\u001b[0m\n",
      "\u001b[?25hInstalling collected packages: sortedcontainers, typing_extensions, h11, attrs, wsproto, outcome, trio, trio-websocket, selenium\n",
      "  Attempting uninstall: typing_extensions\n",
      "    Found existing installation: typing_extensions 4.4.0\n",
      "    Uninstalling typing_extensions-4.4.0:\n",
      "      Successfully uninstalled typing_extensions-4.4.0\n",
      "  Attempting uninstall: attrs\n",
      "    Found existing installation: attrs 22.2.0\n",
      "    Uninstalling attrs-22.2.0:\n",
      "      Successfully uninstalled attrs-22.2.0\n",
      "Successfully installed attrs-23.2.0 h11-0.14.0 outcome-1.3.0.post0 selenium-4.18.1 sortedcontainers-2.4.0 trio-0.25.0 trio-websocket-0.11.1 typing_extensions-4.10.0 wsproto-1.2.0\n"
     ]
    }
   ],
   "source": [
    "!pip install selenium"
   ]
  },
  {
   "cell_type": "code",
   "execution_count": 38,
   "id": "481c6f86-31f0-4d33-844f-edf804d8fa3b",
   "metadata": {
    "tags": []
   },
   "outputs": [],
   "source": [
    "import re\n",
    "from selenium import webdriver\n",
    "from selenium.webdriver.common.by import By\n",
    "from selenium.webdriver.common.keys import Keys\n",
    "import urllib.request\n",
    "from bs4 import BeautifulSoup\n",
    "import time\n",
    "from selenium.webdriver.support.ui import WebDriverWait\n",
    "from selenium.webdriver.support import expected_conditions as EC\n",
    "from bs4 import BeautifulSoup\n",
    "from moviepy.video.io.ffmpeg_tools import ffmpeg_extract_subclip\n",
    "\n",
    "vid_links = []\n",
    "trim_start = 3600\n",
    "trim_end = 3610\n",
    "web_url = 'https://video.miem.hse.ru/engage/ui/index.html'\n"
   ]
  },
  {
   "cell_type": "markdown",
   "id": "e3694d58-661d-4b2a-bcb8-91ae9401dc00",
   "metadata": {},
   "source": [
    "Сайт Opencast VM MIEM имеет задержку при запросе исходного кода страницы, таким образом, через request получить полный текст html не получится. Необходимо имитировать работу пользователя через selenium."
   ]
  },
  {
   "cell_type": "code",
   "execution_count": 35,
   "id": "062857f3-1b99-4090-96c8-981c50c3449d",
   "metadata": {
    "tags": []
   },
   "outputs": [],
   "source": [
    "browser = webdriver.Chrome()\n",
    "browser.get('https://video.miem.hse.ru/engage/ui/index.html?e=1')"
   ]
  },
  {
   "cell_type": "code",
   "execution_count": 39,
   "id": "61aa841b-16a4-43fa-a92c-2a4449f661e8",
   "metadata": {
    "tags": []
   },
   "outputs": [],
   "source": [
    "all_txt = browser.page_source"
   ]
  },
  {
   "cell_type": "code",
   "execution_count": 40,
   "id": "6dcfb2ae-2c30-493e-8ee8-ab4ca8876ede",
   "metadata": {
    "tags": []
   },
   "outputs": [
    {
     "name": "stdout",
     "output_type": "stream",
     "text": [
      "Number of vids:  1060\n"
     ]
    }
   ],
   "source": [
    "soup = BeautifulSoup(all_txt, \"html.parser\")\n",
    "all_vids = soup.findAll('a', class_='tile')\n",
    "for data in all_vids:\n",
    "    vid_links.append(data['href'])\n",
    "\n",
    "print(\"Number of vids: \", len(vid_links))"
   ]
  },
  {
   "cell_type": "markdown",
   "id": "08b9d1f8-26b4-4857-b96e-755ab1819fe4",
   "metadata": {},
   "source": [
    "Также после перехода по полученным ссылкам на видео мы оказываемся на страницы плеера, где нужно нажать кнопку play, чтобы получить код нужной нам страницы для скачивания. Здесь нам также помогает selenium."
   ]
  },
  {
   "cell_type": "code",
   "execution_count": 165,
   "id": "6561789e-6510-44e4-b8b1-dccf5aba5376",
   "metadata": {
    "tags": []
   },
   "outputs": [],
   "source": [
    "browser.get('https://video.miem.hse.ru' + vid_links[0])"
   ]
  },
  {
   "cell_type": "code",
   "execution_count": 166,
   "id": "efe80772-b4d6-4bd6-af1c-808901c88dac",
   "metadata": {
    "tags": []
   },
   "outputs": [],
   "source": [
    "share = browser.find_element(By.ID, 'lazyLoadThumbnailContainer')\n",
    "share.click()"
   ]
  },
  {
   "cell_type": "code",
   "execution_count": 150,
   "id": "3405bf8a-c8e2-4fe7-aac5-3a437f986214",
   "metadata": {
    "tags": []
   },
   "outputs": [
    {
     "name": "stdout",
     "output_type": "stream",
     "text": [
      "https://video.miem.hse.ru/static/mh_default_org/engage-player/32221332-2729-48c1-9903-a2bdbd0a375a/7ab99570-d519-48c5-8e95-4b2dcb4d5ce0/recording_1679379960_32221332_2729_48c1_9903_a2bdbd0a375a_presenter.mp4\n"
     ]
    }
   ],
   "source": [
    "soup1 = BeautifulSoup(browser.page_source, \"html.parser\")\n",
    "res = soup1.findAll('div', class_='downloadsLinkContainer')\n",
    "for data in res:\n",
    "    if 'presenter/delivery' in str(data) and '(854x480@25fps)' in str(data):\n",
    "        dlink = data.findAll('a', class_='downloadsLinkItem')[0]['href']\n",
    "\n",
    "print(dlink)"
   ]
  },
  {
   "cell_type": "code",
   "execution_count": 151,
   "id": "013e4091-c8b2-4fa1-affb-fc9efcad7e48",
   "metadata": {
    "tags": []
   },
   "outputs": [
    {
     "data": {
      "text/plain": [
       "('videoname.mp4', <http.client.HTTPMessage at 0x16721c4d0>)"
      ]
     },
     "execution_count": 151,
     "metadata": {},
     "output_type": "execute_result"
    }
   ],
   "source": [
    "urllib.request.urlretrieve(dlink, 'videoname.mp4')"
   ]
  },
  {
   "cell_type": "markdown",
   "id": "0ccc0384-a035-4999-a216-cc55d8d49be5",
   "metadata": {},
   "source": [
    "Реализуем полный парсер с помощью цикла:"
   ]
  },
  {
   "cell_type": "code",
   "execution_count": 41,
   "id": "1b04165d-8f24-434c-8820-a76bc1c95e6c",
   "metadata": {
    "tags": []
   },
   "outputs": [],
   "source": [
    "for i in range(1044, len(vid_links)):\n",
    "    browser.get('https://video.miem.hse.ru' + vid_links[i])\n",
    "    time.sleep(5)\n",
    "    share = browser.find_element(By.ID, 'lazyLoadThumbnailContainer')\n",
    "    share.click()\n",
    "    time.sleep(7)\n",
    "    soup1 = BeautifulSoup(browser.page_source, \"html.parser\")\n",
    "    res = soup1.findAll('div', class_='downloadsLinkContainer')\n",
    "    for data in res:\n",
    "        if 'presenter/delivery' in str(data) and '(854x480@25fps)' in str(data):\n",
    "            dlink = data.findAll('a', class_='downloadsLinkItem')[0]['href']\n",
    "    if dlink=='':\n",
    "        print('SOMETHING WRONG!!!')\n",
    "        break\n",
    "    urllib.request.urlretrieve(dlink, 'videoname{}.mp4'.format(i+1))"
   ]
  },
  {
   "cell_type": "markdown",
   "id": "a5de2c60-2caa-4b38-9298-e3fff6f6524f",
   "metadata": {},
   "source": [
    "Поскольку часовые видео нейронка будет обрабатывать слишком долго, необходимо сдедать 20-и секундные сниппеты с видео. Будем выбирать эти кусочки из середины записей, поскольку там наибольшая вероятность встретить хотя бы 1 лицо в кадре:"
   ]
  },
  {
   "cell_type": "code",
   "execution_count": 42,
   "id": "7c1bc935-607b-4e86-8d3b-107426080263",
   "metadata": {},
   "outputs": [
    {
     "name": "stdout",
     "output_type": "stream",
     "text": [
      "Moviepy - Running:\n",
      ">>> \"+ \" \".join(cmd)\n",
      "Moviepy - Command returned an error\n",
      "Moviepy - Running:\n",
      ">>> \"+ \" \".join(cmd)\n",
      "Moviepy - Command successful\n",
      "Moviepy - Running:\n",
      ">>> \"+ \" \".join(cmd)\n",
      "Moviepy - Command successful\n",
      "Moviepy - Running:\n",
      ">>> \"+ \" \".join(cmd)\n",
      "Moviepy - Command successful\n",
      "Moviepy - Running:\n",
      ">>> \"+ \" \".join(cmd)\n",
      "Moviepy - Command successful\n",
      "Moviepy - Running:\n",
      ">>> \"+ \" \".join(cmd)\n",
      "Moviepy - Command successful\n",
      "Moviepy - Running:\n",
      ">>> \"+ \" \".join(cmd)\n",
      "Moviepy - Command successful\n",
      "Moviepy - Running:\n",
      ">>> \"+ \" \".join(cmd)\n",
      "Moviepy - Command successful\n",
      "Moviepy - Running:\n",
      ">>> \"+ \" \".join(cmd)\n",
      "Moviepy - Command successful\n",
      "Moviepy - Running:\n",
      ">>> \"+ \" \".join(cmd)\n",
      "Moviepy - Command successful\n",
      "Moviepy - Running:\n",
      ">>> \"+ \" \".join(cmd)\n",
      "Moviepy - Command successful\n",
      "Moviepy - Running:\n",
      ">>> \"+ \" \".join(cmd)\n",
      "Moviepy - Command successful\n",
      "Moviepy - Running:\n",
      ">>> \"+ \" \".join(cmd)\n",
      "Moviepy - Command successful\n",
      "Moviepy - Running:\n",
      ">>> \"+ \" \".join(cmd)\n",
      "Moviepy - Command successful\n",
      "Moviepy - Running:\n",
      ">>> \"+ \" \".join(cmd)\n",
      "Moviepy - Command successful\n",
      "Moviepy - Running:\n",
      ">>> \"+ \" \".join(cmd)\n",
      "Moviepy - Command successful\n",
      "Moviepy - Running:\n",
      ">>> \"+ \" \".join(cmd)\n",
      "Moviepy - Command successful\n"
     ]
    }
   ],
   "source": [
    "t1 = 3600\n",
    "t2 = 3620\n",
    "\n",
    "for i in range(1044, 1061):\n",
    "    try:\n",
    "        ffmpeg_extract_subclip(\"videoname{}.mp4\".format(i), t1, t2, targetname=\"vid{}_trimmed_20s.mp4\".format(i))\n",
    "    except OSError:\n",
    "        continue"
   ]
  },
  {
   "cell_type": "markdown",
   "id": "201558f6-02d3-45ce-9c5e-a9c97443ba5b",
   "metadata": {},
   "source": [
    "Готово!"
   ]
  },
  {
   "cell_type": "code",
   "execution_count": null,
   "id": "30024ba5-03fb-4b25-93a5-343c331d9914",
   "metadata": {},
   "outputs": [],
   "source": []
  }
 ],
 "metadata": {
  "kernelspec": {
   "display_name": "Python 3 (ipykernel)",
   "language": "python",
   "name": "python3"
  },
  "language_info": {
   "codemirror_mode": {
    "name": "ipython",
    "version": 3
   },
   "file_extension": ".py",
   "mimetype": "text/x-python",
   "name": "python",
   "nbconvert_exporter": "python",
   "pygments_lexer": "ipython3",
   "version": "3.11.0"
  }
 },
 "nbformat": 4,
 "nbformat_minor": 5
}
